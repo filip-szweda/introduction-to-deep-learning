{
 "cells": [
  {
   "cell_type": "markdown",
   "metadata": {},
   "source": [
    "# Sentiment analysis of tweets - opinions on air carriers from February 2015\n",
    "\n",
    "### Step 1: import of tweets data"
   ]
  },
  {
   "cell_type": "code",
   "execution_count": 2,
   "metadata": {
    "_cell_guid": "fce10577-7807-ca76-4de9-15e6319715ca"
   },
   "outputs": [
    {
     "data": {
      "text/html": [
       "<div>\n",
       "<style scoped>\n",
       "    .dataframe tbody tr th:only-of-type {\n",
       "        vertical-align: middle;\n",
       "    }\n",
       "\n",
       "    .dataframe tbody tr th {\n",
       "        vertical-align: top;\n",
       "    }\n",
       "\n",
       "    .dataframe thead th {\n",
       "        text-align: right;\n",
       "    }\n",
       "</style>\n",
       "<table border=\"1\" class=\"dataframe\">\n",
       "  <thead>\n",
       "    <tr style=\"text-align: right;\">\n",
       "      <th></th>\n",
       "      <th>tweet_id</th>\n",
       "      <th>airline_sentiment</th>\n",
       "      <th>airline_sentiment_confidence</th>\n",
       "      <th>airline</th>\n",
       "      <th>text</th>\n",
       "    </tr>\n",
       "  </thead>\n",
       "  <tbody>\n",
       "    <tr>\n",
       "      <th>0</th>\n",
       "      <td>5.703061e+17</td>\n",
       "      <td>neutral</td>\n",
       "      <td>1.0000</td>\n",
       "      <td>Virgin America</td>\n",
       "      <td>@VirginAmerica What @dhepburn said.</td>\n",
       "    </tr>\n",
       "    <tr>\n",
       "      <th>1</th>\n",
       "      <td>5.703011e+17</td>\n",
       "      <td>positive</td>\n",
       "      <td>0.3486</td>\n",
       "      <td>Virgin America</td>\n",
       "      <td>@VirginAmerica plus you've added commercials t...</td>\n",
       "    </tr>\n",
       "    <tr>\n",
       "      <th>2</th>\n",
       "      <td>5.703011e+17</td>\n",
       "      <td>neutral</td>\n",
       "      <td>0.6837</td>\n",
       "      <td>Virgin America</td>\n",
       "      <td>@VirginAmerica I didn't today... Must mean I n...</td>\n",
       "    </tr>\n",
       "    <tr>\n",
       "      <th>3</th>\n",
       "      <td>5.703010e+17</td>\n",
       "      <td>negative</td>\n",
       "      <td>1.0000</td>\n",
       "      <td>Virgin America</td>\n",
       "      <td>@VirginAmerica it's really aggressive to blast...</td>\n",
       "    </tr>\n",
       "    <tr>\n",
       "      <th>4</th>\n",
       "      <td>5.703008e+17</td>\n",
       "      <td>negative</td>\n",
       "      <td>1.0000</td>\n",
       "      <td>Virgin America</td>\n",
       "      <td>@VirginAmerica and it's a really big bad thing...</td>\n",
       "    </tr>\n",
       "  </tbody>\n",
       "</table>\n",
       "</div>"
      ],
      "text/plain": [
       "       tweet_id airline_sentiment  airline_sentiment_confidence  \\\n",
       "0  5.703061e+17           neutral                        1.0000   \n",
       "1  5.703011e+17          positive                        0.3486   \n",
       "2  5.703011e+17           neutral                        0.6837   \n",
       "3  5.703010e+17          negative                        1.0000   \n",
       "4  5.703008e+17          negative                        1.0000   \n",
       "\n",
       "          airline                                               text  \n",
       "0  Virgin America                @VirginAmerica What @dhepburn said.  \n",
       "1  Virgin America  @VirginAmerica plus you've added commercials t...  \n",
       "2  Virgin America  @VirginAmerica I didn't today... Must mean I n...  \n",
       "3  Virgin America  @VirginAmerica it's really aggressive to blast...  \n",
       "4  Virgin America  @VirginAmerica and it's a really big bad thing...  "
      ]
     },
     "execution_count": 2,
     "metadata": {},
     "output_type": "execute_result"
    }
   ],
   "source": [
    "import re\n",
    "import numpy as np\n",
    "import pandas as pd\n",
    "from keras_preprocessing.sequence import pad_sequences\n",
    "from keras_preprocessing.text import Tokenizer\n",
    "import matplotlib.pyplot as plt\n",
    "%matplotlib inline\n",
    "\n",
    "#limit on size of vocabualry dictionary used in tweets\n",
    "vocab_size = 500\n",
    "\n",
    "data = pd.read_csv('Tweets.csv')\n",
    "data.head()"
   ]
  },
  {
   "cell_type": "markdown",
   "metadata": {},
   "source": [
    "### Step 2: data transformation and splitting into training and test sets"
   ]
  },
  {
   "cell_type": "code",
   "execution_count": 3,
   "metadata": {
    "_cell_guid": "018f3cbd-850b-5367-ec0e-42cd5cda2d86"
   },
   "outputs": [
    {
     "name": "stdout",
     "output_type": "stream",
     "text": [
      "train_features shape:  (13174, 30)\n",
      "test_features shape:  (1464, 30)\n",
      "train_labels shape:  (13174, 3)\n",
      "test_labels shape:  (1464, 3)\n"
     ]
    }
   ],
   "source": [
    "#tokenizing of words in tweets\n",
    "tok = Tokenizer(num_words=vocab_size, split=' ')\n",
    "tok.fit_on_texts(data['text'].values)\n",
    "X = tok.texts_to_sequences(data['text'].values)\n",
    "X = pad_sequences(X)\n",
    "\n",
    "#extraction of sentiment category\n",
    "categories = pd.get_dummies(data['airline_sentiment'])\n",
    "labels = categories.keys()\n",
    "Y = categories.values\n",
    "\n",
    "#splitting into training and test sets\n",
    "from sklearn.model_selection import train_test_split\n",
    "X_train, X_test, Y_train, Y_test = train_test_split(X, Y, test_size=0.10, random_state=42)\n",
    "print('train_features shape: ', X_train.shape)\n",
    "print('test_features shape: ', X_test.shape)\n",
    "print('train_labels shape: ', Y_train.shape)\n",
    "print('test_labels shape: ', Y_test.shape)\n"
   ]
  },
  {
   "cell_type": "markdown",
   "metadata": {},
   "source": [
    "### Step 3: Definition of neural network"
   ]
  },
  {
   "cell_type": "code",
   "execution_count": null,
   "metadata": {
    "_cell_guid": "cb00f408-4eb2-112b-518f-907d951e53b7"
   },
   "outputs": [],
   "source": [
    "#definition of model\n",
    "from tensorflow.keras.models import Sequential\n",
    "from tensorflow.keras.layers import Embedding, LSTM, Dense\n",
    "from tensorflow.keras.optimizers import SGD, Adam\n",
    "from tensorflow.keras.metrics import CategoricalAccuracy\n",
    "\n",
    "# model = Sequential()\n",
    "# exercise 1\n",
    "# Add layers to the model:\n",
    "# - Embedding - it should get vectors of dictionary size lenght (vocab_size) on the input and transform them into vectors of the lenght equal to 32\n",
    "# - 1 LSTM layer with number of units equal to 10\n",
    "# - Dens - a base of classification (how many outputs it should have?)\n",
    "\n",
    "# - learning process should be based on function starty categorical_crossentropy\n",
    "# - choose 'sgd' as a method for model optimization\n",
    "# - model should return accuracy metric (categorical_accuracy)\n",
    "# ------------------------------------------------------------------------\n",
    "\n",
    "# exercise 2 - zamien\n",
    "# Change model optimization method to 'adam'.\n",
    "# Compare results with those obtained with 'sgd' and explain differences.\n",
    "# ------------------------------------------------------------------------\n",
    "\n",
    "# exercise 3\n",
    "# Add additional LSTM layer with number of units equal to 10.\n",
    "# Perform learning process with 'adam' and 'sgd' methods.\n",
    "\n",
    "\n",
    "## -- beginning of your solution\n",
    "\n",
    "def create_model(optimizer, two_layers=False):\n",
    "    model = Sequential()\n",
    "    model.add(Embedding(input_dim=vocab_size, output_dim=32, input_length=X.shape[1]))\n",
    "\n",
    "    if two_layers:\n",
    "        model.add(LSTM(units=10, return_sequences=True))\n",
    "\n",
    "    model.add(LSTM(units=10))\n",
    "    model.add(Dense(units=Y.shape[1], activation=\"softmax\"))\n",
    "    model.compile(optimizer=optimizer,\n",
    "                  loss=\"categorical_crossentropy\",\n",
    "                  metrics=[CategoricalAccuracy()])\n",
    "    return model\n",
    "\n",
    "print(\"Training model with SGD optimizer...\")\n",
    "model_sgd = create_model(optimizer=SGD())\n",
    "history_sgd = model_sgd.fit(X_train, Y_train, epochs=5, batch_size=32, validation_data=(X_test, Y_test))\n",
    "\n",
    "print(\"Training model with Adam optimizer...\")\n",
    "model_adam = create_model(optimizer=Adam())\n",
    "history_adam = model_adam.fit(X_train, Y_train, epochs=5, batch_size=32, validation_data=(X_test, Y_test))\n",
    "\n",
    "print(\"Training model with additional LSTM layer and Adam optimizer...\")\n",
    "model_extra_adam = create_model(optimizer=Adam(), two_layers=True)\n",
    "history_extra_adam = model_extra_adam.fit(X_train, Y_train, epochs=5, batch_size=32, validation_data=(X_test, Y_test))\n",
    "\n",
    "print(\"Training model with additional LSTM layer and SGD optimizer...\")\n",
    "model_extra_sgd = create_model(optimizer=SGD(), two_layers=True)\n",
    "history_extra_sgd = model_extra_sgd.fit(X_train, Y_train, epochs=5, batch_size=32, validation_data=(X_test, Y_test))\n",
    "\n",
    "print(\"Model summary with SGD optimizer:\")\n",
    "print(model_sgd.summary())\n",
    "print(\"Model summary with Adam optimizer:\")\n",
    "print(model_adam.summary())\n",
    "print(\"Model summary with additional LSTM layer and Adam optimizer:\")\n",
    "print(model_extra_adam.summary())\n",
    "print(\"Model summary with additional LSTM layer and SGD optimizer:\")\n",
    "print(model_extra_sgd.summary())\n",
    "\n",
    "## -- end of your solution\n",
    "\n",
    "# print(model.summary())\n"
   ]
  },
  {
   "cell_type": "markdown",
   "metadata": {},
   "source": [
    "### Step 4: Learning process"
   ]
  },
  {
   "cell_type": "code",
   "execution_count": 15,
   "metadata": {
    "_cell_guid": "a6da6544-a312-d6d5-7e54-f1ecb15259ee"
   },
   "outputs": [
    {
     "name": "stdout",
     "output_type": "stream",
     "text": [
      "Training model with SGD optimizer...\n",
      "Epoch 1/5\n",
      "\u001b[1m824/824\u001b[0m \u001b[32m━━━━━━━━━━━━━━━━━━━━\u001b[0m\u001b[37m\u001b[0m \u001b[1m5s\u001b[0m 4ms/step - categorical_accuracy: 0.6218 - loss: 0.9656 - val_categorical_accuracy: 0.6045 - val_loss: 0.9327\n",
      "Epoch 2/5\n",
      "\u001b[1m824/824\u001b[0m \u001b[32m━━━━━━━━━━━━━━━━━━━━\u001b[0m\u001b[37m\u001b[0m \u001b[1m3s\u001b[0m 4ms/step - categorical_accuracy: 0.6297 - loss: 0.8977 - val_categorical_accuracy: 0.6113 - val_loss: 0.8689\n",
      "Epoch 3/5\n",
      "\u001b[1m824/824\u001b[0m \u001b[32m━━━━━━━━━━━━━━━━━━━━\u001b[0m\u001b[37m\u001b[0m \u001b[1m3s\u001b[0m 4ms/step - categorical_accuracy: 0.6393 - loss: 0.8427 - val_categorical_accuracy: 0.6325 - val_loss: 0.8393\n",
      "Epoch 4/5\n",
      "\u001b[1m824/824\u001b[0m \u001b[32m━━━━━━━━━━━━━━━━━━━━\u001b[0m\u001b[37m\u001b[0m \u001b[1m3s\u001b[0m 4ms/step - categorical_accuracy: 0.6514 - loss: 0.8200 - val_categorical_accuracy: 0.6332 - val_loss: 0.8272\n",
      "Epoch 5/5\n",
      "\u001b[1m824/824\u001b[0m \u001b[32m━━━━━━━━━━━━━━━━━━━━\u001b[0m\u001b[37m\u001b[0m \u001b[1m3s\u001b[0m 4ms/step - categorical_accuracy: 0.6537 - loss: 0.8083 - val_categorical_accuracy: 0.6434 - val_loss: 0.8121\n",
      "SGD Optimizer - Test Accuracy: 0.6434\n",
      "Training model with Adam optimizer...\n",
      "Epoch 1/5\n",
      "\u001b[1m824/824\u001b[0m \u001b[32m━━━━━━━━━━━━━━━━━━━━\u001b[0m\u001b[37m\u001b[0m \u001b[1m5s\u001b[0m 5ms/step - categorical_accuracy: 0.6790 - loss: 0.8004 - val_categorical_accuracy: 0.7657 - val_loss: 0.5636\n",
      "Epoch 2/5\n",
      "\u001b[1m824/824\u001b[0m \u001b[32m━━━━━━━━━━━━━━━━━━━━\u001b[0m\u001b[37m\u001b[0m \u001b[1m4s\u001b[0m 4ms/step - categorical_accuracy: 0.7977 - loss: 0.5171 - val_categorical_accuracy: 0.7732 - val_loss: 0.5457\n",
      "Epoch 3/5\n",
      "\u001b[1m824/824\u001b[0m \u001b[32m━━━━━━━━━━━━━━━━━━━━\u001b[0m\u001b[37m\u001b[0m \u001b[1m4s\u001b[0m 5ms/step - categorical_accuracy: 0.8075 - loss: 0.4796 - val_categorical_accuracy: 0.7766 - val_loss: 0.5393\n",
      "Epoch 4/5\n",
      "\u001b[1m824/824\u001b[0m \u001b[32m━━━━━━━━━━━━━━━━━━━━\u001b[0m\u001b[37m\u001b[0m \u001b[1m4s\u001b[0m 4ms/step - categorical_accuracy: 0.8165 - loss: 0.4567 - val_categorical_accuracy: 0.7787 - val_loss: 0.5460\n",
      "Epoch 5/5\n",
      "\u001b[1m824/824\u001b[0m \u001b[32m━━━━━━━━━━━━━━━━━━━━\u001b[0m\u001b[37m\u001b[0m \u001b[1m4s\u001b[0m 4ms/step - categorical_accuracy: 0.8179 - loss: 0.4721 - val_categorical_accuracy: 0.7807 - val_loss: 0.5426\n",
      "Adam Optimizer - Test Accuracy: 0.7807\n",
      "Training model with additional LSTM layer and SGD optimizer...\n",
      "Epoch 1/5\n",
      "\u001b[1m824/824\u001b[0m \u001b[32m━━━━━━━━━━━━━━━━━━━━\u001b[0m\u001b[37m\u001b[0m \u001b[1m8s\u001b[0m 7ms/step - categorical_accuracy: 0.6311 - loss: 0.9427 - val_categorical_accuracy: 0.6045 - val_loss: 0.9168\n",
      "Epoch 2/5\n",
      "\u001b[1m824/824\u001b[0m \u001b[32m━━━━━━━━━━━━━━━━━━━━\u001b[0m\u001b[37m\u001b[0m \u001b[1m5s\u001b[0m 6ms/step - categorical_accuracy: 0.6289 - loss: 0.8711 - val_categorical_accuracy: 0.6202 - val_loss: 0.8439\n",
      "Epoch 3/5\n",
      "\u001b[1m824/824\u001b[0m \u001b[32m━━━━━━━━━━━━━━━━━━━━\u001b[0m\u001b[37m\u001b[0m \u001b[1m5s\u001b[0m 6ms/step - categorical_accuracy: 0.6405 - loss: 0.8332 - val_categorical_accuracy: 0.6318 - val_loss: 0.8344\n",
      "Epoch 4/5\n",
      "\u001b[1m824/824\u001b[0m \u001b[32m━━━━━━━━━━━━━━━━━━━━\u001b[0m\u001b[37m\u001b[0m \u001b[1m5s\u001b[0m 6ms/step - categorical_accuracy: 0.6478 - loss: 0.8123 - val_categorical_accuracy: 0.6318 - val_loss: 0.8294\n",
      "Epoch 5/5\n",
      "\u001b[1m824/824\u001b[0m \u001b[32m━━━━━━━━━━━━━━━━━━━━\u001b[0m\u001b[37m\u001b[0m \u001b[1m5s\u001b[0m 7ms/step - categorical_accuracy: 0.6450 - loss: 0.8154 - val_categorical_accuracy: 0.6414 - val_loss: 0.8087\n",
      "Extra LSTM Layer (SGD) - Test Accuracy: 0.6414\n",
      "Training model with additional LSTM layer and Adam optimizer...\n",
      "Epoch 1/5\n",
      "\u001b[1m824/824\u001b[0m \u001b[32m━━━━━━━━━━━━━━━━━━━━\u001b[0m\u001b[37m\u001b[0m \u001b[1m8s\u001b[0m 7ms/step - categorical_accuracy: 0.6769 - loss: 0.8055 - val_categorical_accuracy: 0.7514 - val_loss: 0.6062\n",
      "Epoch 2/5\n",
      "\u001b[1m824/824\u001b[0m \u001b[32m━━━━━━━━━━━━━━━━━━━━\u001b[0m\u001b[37m\u001b[0m \u001b[1m6s\u001b[0m 7ms/step - categorical_accuracy: 0.7819 - loss: 0.5569 - val_categorical_accuracy: 0.7780 - val_loss: 0.5442\n",
      "Epoch 3/5\n",
      "\u001b[1m824/824\u001b[0m \u001b[32m━━━━━━━━━━━━━━━━━━━━\u001b[0m\u001b[37m\u001b[0m \u001b[1m6s\u001b[0m 7ms/step - categorical_accuracy: 0.8016 - loss: 0.5097 - val_categorical_accuracy: 0.7807 - val_loss: 0.5369\n",
      "Epoch 4/5\n",
      "\u001b[1m824/824\u001b[0m \u001b[32m━━━━━━━━━━━━━━━━━━━━\u001b[0m\u001b[37m\u001b[0m \u001b[1m6s\u001b[0m 7ms/step - categorical_accuracy: 0.8118 - loss: 0.4830 - val_categorical_accuracy: 0.7869 - val_loss: 0.5345\n",
      "Epoch 5/5\n",
      "\u001b[1m824/824\u001b[0m \u001b[32m━━━━━━━━━━━━━━━━━━━━\u001b[0m\u001b[37m\u001b[0m \u001b[1m6s\u001b[0m 7ms/step - categorical_accuracy: 0.8135 - loss: 0.4790 - val_categorical_accuracy: 0.7842 - val_loss: 0.5357\n",
      "Extra LSTM Layer (Adam) - Test Accuracy: 0.7842\n"
     ]
    }
   ],
   "source": [
    "# Add:\n",
    "# - network learning on X_train, Y_train with parameters: batch_size = 16 and number of epochs = 5\n",
    "# - accuracy checking on test data: X_test,Y_test\n",
    "\n",
    "## -- beginning of your solution\n",
    "\n",
    "batch_size = 16\n",
    "epochs = 5\n",
    "\n",
    "print(\"Training model with SGD optimizer...\")\n",
    "model_sgd = create_model(optimizer=SGD())\n",
    "history_sgd = model_sgd.fit(X_train, Y_train, batch_size=batch_size, epochs=epochs, validation_data=(X_test, Y_test))\n",
    "\n",
    "accuracy_sgd = model_sgd.evaluate(X_test, Y_test, verbose=0)\n",
    "print(f\"SGD Optimizer - Test Accuracy: {accuracy_sgd[1]:.4f}\")\n",
    "\n",
    "print(\"Training model with Adam optimizer...\")\n",
    "model_adam = create_model(optimizer=Adam())\n",
    "history_adam = model_adam.fit(X_train, Y_train, batch_size=batch_size, epochs=epochs, validation_data=(X_test, Y_test))\n",
    "\n",
    "accuracy_adam = model_adam.evaluate(X_test, Y_test, verbose=0)\n",
    "print(f\"Adam Optimizer - Test Accuracy: {accuracy_adam[1]:.4f}\")\n",
    "\n",
    "print(\"Training model with additional LSTM layer and SGD optimizer...\")\n",
    "model_extra_sgd = create_model(optimizer=SGD(), two_layers=True)\n",
    "history_extra_sgd = model_extra_sgd.fit(X_train, Y_train, batch_size=batch_size, epochs=epochs, validation_data=(X_test, Y_test))\n",
    "\n",
    "accuracy_extra_sgd = model_extra_sgd.evaluate(X_test, Y_test, verbose=0)\n",
    "print(f\"Extra LSTM Layer (SGD) - Test Accuracy: {accuracy_extra_sgd[1]:.4f}\")\n",
    "\n",
    "print(\"Training model with additional LSTM layer and Adam optimizer...\")\n",
    "model_extra_adam = create_model(optimizer=Adam(), two_layers=True)\n",
    "history_extra_adam = model_extra_adam.fit(X_train, Y_train, batch_size=batch_size, epochs=epochs, validation_data=(X_test, Y_test))\n",
    "\n",
    "accuracy_extra_adam = model_extra_adam.evaluate(X_test, Y_test, verbose=0)\n",
    "print(f\"Extra LSTM Layer (Adam) - Test Accuracy: {accuracy_extra_adam[1]:.4f}\")\n",
    "\n",
    "## -- end of your solution\n"
   ]
  },
  {
   "cell_type": "markdown",
   "metadata": {},
   "source": [
    "### Step 5: Sentiment prediction on exemplary tweets"
   ]
  },
  {
   "cell_type": "code",
   "execution_count": 20,
   "metadata": {
    "_cell_guid": "0d357960-de37-600e-334e-74be5ba4d168",
    "scrolled": true
   },
   "outputs": [
    {
     "name": "stdout",
     "output_type": "stream",
     "text": [
      "\u001b[1m1/1\u001b[0m \u001b[32m━━━━━━━━━━━━━━━━━━━━\u001b[0m\u001b[37m\u001b[0m \u001b[1m0s\u001b[0m 17ms/step\n",
      "Tweet:\"@united been up since 4am cheers for this delay and then cancellation of the flight\"\n",
      "predicted sentiment: negative, confidence: 0.972137987613678\n",
      "\n",
      "\u001b[1m1/1\u001b[0m \u001b[32m━━━━━━━━━━━━━━━━━━━━\u001b[0m\u001b[37m\u001b[0m \u001b[1m0s\u001b[0m 17ms/step\n",
      "Tweet:\"@united Terrific. Many thanks. Looking forward to being back on UA tomorrow. Had a great flight up to Vancouver.\"\n",
      "predicted sentiment: positive, confidence: 0.9457683563232422\n",
      "\n",
      "\u001b[1m1/1\u001b[0m \u001b[32m━━━━━━━━━━━━━━━━━━━━\u001b[0m\u001b[37m\u001b[0m \u001b[1m0s\u001b[0m 17ms/step\n",
      "Tweet:\"Dallas, Texas to Marrakesh, Morocco for only $442 roundtrip with @FlySWISS & @united.\"\n",
      "predicted sentiment: neutral, confidence: 0.6631367206573486\n",
      "\n"
     ]
    }
   ],
   "source": [
    "# prediction on exemplary tweets\n",
    "def predict(tweet, model):\n",
    "    padded_tweet = pad_sequences(tok.texts_to_sequences([tweet]), maxlen=X.shape[1])\n",
    "    scores = model.predict(padded_tweet)[0]\n",
    "    index = np.argmax(scores)\n",
    "    print(f'Tweet:\\\"{tweet}\\\"')\n",
    "    print(f'predicted sentiment: {labels[index]}, confidence: {scores[index]}\\n')\n",
    "\n",
    "model=model_adam\n",
    "#expected prediction: negative\n",
    "predict(\"@united been up since 4am cheers for this delay and then cancellation of the flight\", model)\n",
    "#expected prediction: positive\n",
    "predict(\"@united Terrific. Many thanks. Looking forward to being back on UA tomorrow. Had a great flight up to Vancouver.\", model)\n",
    "#expected prediction: neutral\n",
    "predict(\"Dallas, Texas to Marrakesh, Morocco for only $442 roundtrip with @FlySWISS & @united.\", model)"
   ]
  }
 ],
 "metadata": {
  "_change_revision": 33,
  "_is_fork": false,
  "kernelspec": {
   "display_name": "myenv",
   "language": "python",
   "name": "python3"
  },
  "language_info": {
   "codemirror_mode": {
    "name": "ipython",
    "version": 3
   },
   "file_extension": ".py",
   "mimetype": "text/x-python",
   "name": "python",
   "nbconvert_exporter": "python",
   "pygments_lexer": "ipython3",
   "version": "3.12.6"
  }
 },
 "nbformat": 4,
 "nbformat_minor": 1
}
